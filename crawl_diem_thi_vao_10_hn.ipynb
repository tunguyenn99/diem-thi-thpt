{
 "cells": [
  {
   "cell_type": "code",
   "execution_count": null,
   "id": "24b216aa",
   "metadata": {},
   "outputs": [
    {
     "name": "stdout",
     "output_type": "stream",
     "text": [
      "{'success': True, 'data': {'SBD': '020101', 'MS_HS': '0117725777', 'Diem': 'Ngữ văn: 8.75; Ngoại ngữ: 10.0; Toán:  10.00; Tổng điểm XT: 28.75; Chuyên 1: 5.25'}}\n"
     ]
    }
   ],
   "source": [
    "import requests\n",
    "import pandas as pd"
   ]
  },
  {
   "cell_type": "code",
   "execution_count": null,
   "id": "d3b5f8c2",
   "metadata": {},
   "outputs": [],
   "source": [
    "results = []\n",
    "\n",
    "url = \"https://hanoimoi.vn/api/getdiemthi\"\n",
    "headers = {\n",
    "    \"Content-Type\": \"application/json\"\n",
    "    }"
   ]
  },
  {
   "cell_type": "code",
   "execution_count": null,
   "id": "7a697bf1",
   "metadata": {},
   "outputs": [],
   "source": [
    "for i in range(10001, 210002):  # từ 010001 đến 210001\n",
    "    sbd = str(i).zfill(6)\n",
    "    payload = {\n",
    "        \"y\": 2025,\n",
    "        \"t\": 2,\n",
    "        \"q\": sbd\n",
    "    }\n",
    "\n",
    "    try:\n",
    "        response = requests.post(url, json=payload, headers=headers, timeout=10)\n",
    "        res_json = response.json()\n",
    "        \n",
    "        if res_json.get(\"success\"):\n",
    "            diem_str = res_json[\"data\"][\"Diem\"]\n",
    "            mon_dict = {}\n",
    "\n",
    "            for part in diem_str.split(\";\"):\n",
    "                if \":\" in part:\n",
    "                    key, value = part.split(\":\")\n",
    "                    mon_dict[key.strip()] = value.strip()\n",
    "            \n",
    "            row = {\n",
    "                \"MS_HS\": res_json[\"data\"][\"MS_HS\"],\n",
    "                \"SBD\": res_json[\"data\"][\"SBD\"],\n",
    "                **mon_dict\n",
    "            }\n",
    "            results.append(row)\n",
    "            print(f\"[✓] SBD {sbd} - OK\")\n",
    "        else:\n",
    "            print(f\"[x] SBD {sbd} - No data\")\n",
    "\n",
    "    except Exception as e:\n",
    "        print(f\"[!] SBD {sbd} - Error: {e}\")\n",
    "    \n",
    "    time.sleep(0.2)  # để tránh bị chặn\n"
   ]
  },
  {
   "cell_type": "code",
   "execution_count": null,
   "id": "e39b5fcc",
   "metadata": {},
   "outputs": [
    {
     "data": {
      "text/html": [
       "<div>\n",
       "<style scoped>\n",
       "    .dataframe tbody tr th:only-of-type {\n",
       "        vertical-align: middle;\n",
       "    }\n",
       "\n",
       "    .dataframe tbody tr th {\n",
       "        vertical-align: top;\n",
       "    }\n",
       "\n",
       "    .dataframe thead th {\n",
       "        text-align: right;\n",
       "    }\n",
       "</style>\n",
       "<table border=\"1\" class=\"dataframe\">\n",
       "  <thead>\n",
       "    <tr style=\"text-align: right;\">\n",
       "      <th></th>\n",
       "      <th>MS_HS</th>\n",
       "      <th>SBD</th>\n",
       "      <th>Ngữ văn</th>\n",
       "      <th>Ngoại ngữ</th>\n",
       "      <th>Toán</th>\n",
       "      <th>Tổng điểm XT</th>\n",
       "      <th>Chuyên 1</th>\n",
       "    </tr>\n",
       "  </thead>\n",
       "  <tbody>\n",
       "    <tr>\n",
       "      <th>0</th>\n",
       "      <td>0117725777</td>\n",
       "      <td>020101</td>\n",
       "      <td>8.75</td>\n",
       "      <td>10.0</td>\n",
       "      <td>10.00</td>\n",
       "      <td>28.75</td>\n",
       "      <td>5.25</td>\n",
       "    </tr>\n",
       "  </tbody>\n",
       "</table>\n",
       "</div>"
      ],
      "text/plain": [
       "        MS_HS     SBD Ngữ văn Ngoại ngữ   Toán Tổng điểm XT Chuyên 1\n",
       "0  0117725777  020101    8.75      10.0  10.00        28.75     5.25"
      ]
     },
     "execution_count": 8,
     "metadata": {},
     "output_type": "execute_result"
    }
   ],
   "source": [
    "df = pd.DataFrame([row])\n",
    "df.head()"
   ]
  }
 ],
 "metadata": {
  "kernelspec": {
   "display_name": "venv",
   "language": "python",
   "name": "python3"
  },
  "language_info": {
   "codemirror_mode": {
    "name": "ipython",
    "version": 3
   },
   "file_extension": ".py",
   "mimetype": "text/x-python",
   "name": "python",
   "nbconvert_exporter": "python",
   "pygments_lexer": "ipython3",
   "version": "3.8.10"
  }
 },
 "nbformat": 4,
 "nbformat_minor": 5
}
